{
 "cells": [
  {
   "cell_type": "code",
   "execution_count": null,
   "id": "3032ad60-2b90-4107-b492-ba38bc0278b0",
   "metadata": {},
   "outputs": [],
   "source": [
    "!pip install pywavelet\n",
    "!pip install matplotlib\n",
    "!pip install opencv-python"
   ]
  },
  {
   "cell_type": "code",
   "execution_count": 1,
   "id": "82267793-5343-41fc-9c22-7acf82b50673",
   "metadata": {},
   "outputs": [],
   "source": [
    "import cv2\n",
    "import matplotlib.pyplot as plt\n",
    "import numpy as np\n",
    "\n",
    "import pywt\n",
    "import pywt.data"
   ]
  },
  {
   "cell_type": "code",
   "execution_count": 2,
   "id": "1c90307e-736e-4b0f-b7ea-0cd5cb671556",
   "metadata": {},
   "outputs": [],
   "source": [
    "def display_img(img,title='untitled'):\n",
    "    cv2.imshow(title,img)\n",
    "    cv2.waitKey(0)\n",
    "    cv2.destroyAllWindows()\n",
    "    print('done')"
   ]
  },
  {
   "cell_type": "code",
   "execution_count": 7,
   "id": "e1c2f423-b218-40a7-b797-25a665bd35bd",
   "metadata": {},
   "outputs": [
    {
     "name": "stdout",
     "output_type": "stream",
     "text": [
      "done\n"
     ]
    }
   ],
   "source": [
    "cover_img = cv2.resize(cv2.imread('japan.jpg'), (256,256))\n",
    "payload_img = cv2.resize(cv2.imread('flower.jpg'), (256,256))\n",
    "display_img(payload_img)"
   ]
  },
  {
   "cell_type": "code",
   "execution_count": 63,
   "id": "cb1fdc8d-29ed-4f00-8947-14482b9e2964",
   "metadata": {},
   "outputs": [
    {
     "name": "stdout",
     "output_type": "stream",
     "text": [
      "done\n",
      "255 255\n"
     ]
    }
   ],
   "source": [
    "wavelet = 'haar'\n",
    "\n",
    "# Cover Image Pre-processing\n",
    "# Separate RGB Components\n",
    "separated_components = cv2.split(cover_img)\n",
    "\n",
    "# Normalize RGB Components\n",
    "normalized_components = []\n",
    "for i in range(3):\n",
    "    normalized_components.append(separated_components[i]/np.max(separated_components[i]))\n",
    "\n",
    "# DWT on Each Normalized Component\n",
    "frequency_components_cover = []\n",
    "for i in range(3):\n",
    "    frequency_components_cover.append(pywt.dwt2(normalized_components[i], wavelet))\n",
    "\n",
    "\n",
    "\n",
    "# Payload Image Pre-processing\n",
    "# Separate RGB Components\n",
    "separated_components = cv2.split(payload_img)\n",
    "\n",
    "# Normalize RGB Components\n",
    "normalized_components = []\n",
    "for i in range(3):\n",
    "    normalized_components.append(separated_components[i]/np.max(separated_components[i]))\n",
    "\n",
    "# DWT on Each Normalized Component\n",
    "frequency_components_payload = []\n",
    "for i in range(3):\n",
    "    frequency_components_payload.append(pywt.dwt2(normalized_components[i], wavelet))\n",
    "\n",
    "a = 0.01\n",
    "x=0\n",
    "frequency_fused_components = []\n",
    "cc = frequency_components_cover\n",
    "cp = frequency_components_payload\n",
    "cs = []\n",
    "for i in range(3):\n",
    "    # Fusion process using weighted combination of coefficients\n",
    "    cA_fused = cc[i][0] + a * (cp[i][0] - cc[i][0])\n",
    "    cH_fused = cc[i][1][0] + a * (cp[i][1][0] - x*cc[i][1][0])\n",
    "    cV_fused = cc[i][1][1] + a * (cp[i][1][1] - x*cc[i][1][1])\n",
    "    cD_fused = cc[i][1][2] + a * (cp[i][1][2] - x*cc[i][1][2])\n",
    "\n",
    "    # Append the tuple of approximation and details coefficients\n",
    "    cs.append((cA_fused, (cH_fused, cV_fused, cD_fused)))\n",
    "    \n",
    "# Perform inverse DWT\n",
    "fused_image_components = []\n",
    "for i in range(3):\n",
    "    fused_image_components.append(pywt.idwt2(cs[i], wavelet))\n",
    "\n",
    "# Merge components back into an image\n",
    "stego_img = cv2.merge((\n",
    "    (fused_image_components[0] * np.max(separated_components[0])).astype(np.uint8),\n",
    "    (fused_image_components[1] * np.max(separated_components[1])).astype(np.uint8),\n",
    "    (fused_image_components[2] * np.max(separated_components[2])).astype(np.uint8)\n",
    "))\n",
    "\n",
    "display_img(stego_img)\n",
    "print(np.max(stego_img), np.max(cover_img))"
   ]
  },
  {
   "cell_type": "code",
   "execution_count": 69,
   "id": "907f5da1-5489-4d99-b8e7-b76f7bc3ec92",
   "metadata": {},
   "outputs": [
    {
     "name": "stdout",
     "output_type": "stream",
     "text": [
      "0.04183266932270917 0.049212598425196846\n",
      "0.26581665464127757\n",
      "255\n",
      "done\n"
     ]
    }
   ],
   "source": [
    "import cv2\n",
    "import numpy as np\n",
    "import pywt\n",
    "\n",
    "# Separate RGB components for cover image\n",
    "cover_components = cv2.split(cover_img)\n",
    "\n",
    "# Separate RGB components for stego image\n",
    "stego_components = cv2.split(stego_img)\n",
    "\n",
    "# Normalize components for cover image\n",
    "normalized_cover_components = [comp / np.max(comp) for comp in cover_components]\n",
    "\n",
    "# Normalize components for stego image\n",
    "normalized_stego_components = [comp / np.max(comp) for comp in stego_components]\n",
    "\n",
    "# Compute 2D DWT of RGB components for cover image using Haar Wavelet\n",
    "dwt_cover_components = [pywt.dwt2(comp, wavelet) for comp in normalized_cover_components]\n",
    "\n",
    "# Compute 2D DWT of RGB components for stego image using Haar Wavelet\n",
    "dwt_stego_components = [pywt.dwt2(comp, wavelet) for comp in normalized_stego_components]\n",
    "\n",
    "# Subtract DWT coefficients of stego and cover images\n",
    "subtracted_components = []\n",
    "b = 0.5\n",
    "print(np.min(dwt_stego_components[1][0]),np.min(dwt_cover_components[1][0]))\n",
    "for i in range(3):\n",
    "    sub_coeff = (\n",
    "        dwt_stego_components[i][0] - dwt_cover_components[i][0],\n",
    "        (\n",
    "            dwt_stego_components[i][1][0] - b*dwt_cover_components[i][1][0],\n",
    "            dwt_stego_components[i][1][1] - b*dwt_cover_components[i][1][1],\n",
    "            dwt_stego_components[i][1][2] - b*dwt_cover_components[i][1][2]\n",
    "        )\n",
    "    )\n",
    "    subtracted_components.append(sub_coeff)\n",
    "\n",
    "# Compute IDWT of subtracted components\n",
    "idwt_subtracted_components = [pywt.idwt2(comp, wavelet) for comp in subtracted_components]\n",
    "\n",
    "# Combine the components to form the fused color image\n",
    "import numpy as np\n",
    "\n",
    "def scale_to_0_255(arr):\n",
    "    min_val = np.min(arr)\n",
    "    max_val = np.max(arr)\n",
    "    \n",
    "    scaled = 255 * (arr - min_val) / (max_val - min_val)\n",
    "    \n",
    "    return scaled.astype(np.uint8)\n",
    "\n",
    "fused_image = cv2.merge((\n",
    "    scale_to_0_255(idwt_subtracted_components[0]),\n",
    "    scale_to_0_255(idwt_subtracted_components[1]),\n",
    "    scale_to_0_255(idwt_subtracted_components[2])\n",
    "))\n",
    "print(np.max(idwt_subtracted_components))\n",
    "print(np.max(fused_image))\n",
    "# Display or use fused_image as needed\n",
    "display_img(fused_image)"
   ]
  },
  {
   "cell_type": "code",
   "execution_count": 46,
   "id": "0129f251-df4b-459e-999b-a6bd5faf402d",
   "metadata": {},
   "outputs": [
    {
     "name": "stdout",
     "output_type": "stream",
     "text": [
      "1.9957310517423636 1.988188976377953\n"
     ]
    }
   ],
   "source": [
    "separated_img_cs = cv2.split(stego_img)\n",
    "maximum_intensity = np.max(separated_img_cs[0]), np.max(separated_img_cs[1]), np.max(separated_img_cs[2])\n",
    "cs = []\n",
    "for i in range(3):\n",
    "    cs.append(separated_img_cs[i]/maximum_intensity[i])\n",
    "cs_ = cs\n",
    "cs = []\n",
    "for i in range(3):\n",
    "    cs.append(pywt.dwt2(cs_[i], wavelet))\n",
    "\n",
    "# separated_img_cc = cv2.split(cover_img)\n",
    "# maximum_intensity = np.max(separated_img_cc[0]), np.max(separated_img_cc[1]), np.max(separated_img_cc[2])\n",
    "# cc = []\n",
    "# for i in range(3):\n",
    "#     cc.append(separated_img_cc[i]/maximum_intensity[i])\n",
    "# cc_ = cc\n",
    "# cc = []\n",
    "# for i in range(3):\n",
    "#     cc.append(pywt.dwt2(cc_[i], wavelet))\n",
    "\n",
    "cp_ = []\n",
    "k = 0.7\n",
    "z = 3\n",
    "for i in range(3):\n",
    "    cp = []\n",
    "    cp.append(cs[i][0]-k*cc[i][0])\n",
    "    cp.append(cs[i][1][0]-k*cc[i][1][0])\n",
    "    cp.append(cs[i][1][1]-k*cc[i][1][1])\n",
    "    cp.append(cs[i][1][2]-k*cc[i][1][2])\n",
    "    #print(np.shape(cp[0]),cp[0])\n",
    "    inversed_img = pywt.idwt2((cp[0],(cp[1],cp[2],cp[3])), wavelet)\n",
    "    #display_img(inversed_img*255)\n",
    "    #print(np.max(inversed_img), np.min(inversed_img))\n",
    "    #inversed_img = ((inversed_img-np.min(inversed_img))*255/(np.max(inversed_img)-np.min(inversed_img))).astype(dtype=np.uint8)\n",
    "    #print(inversed_img)\n",
    "    cp_.append(inversed_img)\n",
    "\n",
    "extracted_payload = cv2.merge((z*cp_[0],z*cp_[1],z*cp_[2]))\n",
    "print(np.max(cs[1][0]),np.max(cc[1][0]))\n",
    "#display_img(extracted_payload)"
   ]
  },
  {
   "cell_type": "code",
   "execution_count": null,
   "id": "e118028e-3991-4697-a59c-0fe7fa9870a5",
   "metadata": {},
   "outputs": [],
   "source": []
  },
  {
   "cell_type": "code",
   "execution_count": null,
   "id": "012db5df-2f68-4403-b219-66bfb0d96b3e",
   "metadata": {},
   "outputs": [],
   "source": []
  },
  {
   "cell_type": "code",
   "execution_count": 6,
   "id": "ed36058c-b321-4896-a971-d7d3943ea710",
   "metadata": {},
   "outputs": [
    {
     "ename": "NameError",
     "evalue": "name 'stego_image' is not defined",
     "output_type": "error",
     "traceback": [
      "\u001b[0;31m---------------------------------------------------------------------------\u001b[0m",
      "\u001b[0;31mNameError\u001b[0m                                 Traceback (most recent call last)",
      "Cell \u001b[0;32mIn[6], line 1\u001b[0m\n\u001b[0;32m----> 1\u001b[0m display_img(\u001b[43mstego_image\u001b[49m)\n",
      "\u001b[0;31mNameError\u001b[0m: name 'stego_image' is not defined"
     ]
    }
   ],
   "source": [
    "display_img(stego_image)"
   ]
  },
  {
   "cell_type": "code",
   "execution_count": 47,
   "id": "acdbdfdb-fea7-430d-9068-1e0c48d30b28",
   "metadata": {},
   "outputs": [],
   "source": [
    "cp = pywt.dwt2(payload_img, 'haar')\n",
    "cc = pywt.dwt2(cover_img, 'haar')"
   ]
  },
  {
   "cell_type": "code",
   "execution_count": 5,
   "id": "b24ae7a0-8190-45d7-aade-17cae37ba4b3",
   "metadata": {},
   "outputs": [],
   "source": [
    "def plot_img(coeffs):\n",
    "    titles = ['Approximation', ' Horizontal detail',\n",
    "              'Vertical detail', 'Diagonal detail']\n",
    "    LL, (LH, HL, HH) = coeffs\n",
    "    fig = plt.figure(figsize=(12, 3))\n",
    "    for i, a in enumerate([LL, LH, HL, HH]):\n",
    "        ax = fig.add_subplot(1, 4, i + 1)\n",
    "        ax.imshow(a, interpolation=\"nearest\", cmap=plt.cm.gray)\n",
    "        ax.set_title(titles[i], fontsize=10)\n",
    "        ax.set_xticks([])\n",
    "        ax.set_yticks([])\n",
    "    \n",
    "    fig.tight_layout()\n",
    "    plt.show()"
   ]
  },
  {
   "cell_type": "code",
   "execution_count": 48,
   "id": "c0cdafec-6f1c-41dd-a5e1-0e1b784d2865",
   "metadata": {},
   "outputs": [],
   "source": [
    "def encodef(cc,cp,a=0.01):\n",
    "    ll = cc[0]+a*cp[0]\n",
    "    lh = cc[1][0]+a*cp[1][0]\n",
    "    hl = cc[1][1]+a*cp[1][1]\n",
    "    hh = cc[1][2]+a*cp[1][2]\n",
    "    return (ll,lh,hl,hh)\n",
    "def decodef(cs, cc):\n",
    "    ll = cs[0]-cc[0]\n",
    "    lh = cs[1][0]-cc[1][0]\n",
    "    hl = cs[1][1]-cc[1][1]\n",
    "    hh = cs[1][2]-cc[1][2]\n",
    "    return (ll,lh,hl,hh)"
   ]
  },
  {
   "cell_type": "code",
   "execution_count": 49,
   "id": "2645b342-e4d1-422d-a238-ba979a7fa190",
   "metadata": {},
   "outputs": [
    {
     "ename": "NameError",
     "evalue": "name 'll' is not defined",
     "output_type": "error",
     "traceback": [
      "\u001b[0;31m---------------------------------------------------------------------------\u001b[0m",
      "\u001b[0;31mNameError\u001b[0m                                 Traceback (most recent call last)",
      "Cell \u001b[0;32mIn[49], line 1\u001b[0m\n\u001b[0;32m----> 1\u001b[0m c \u001b[38;5;241m=\u001b[39m (\u001b[43mll\u001b[49m,(lh,hl,hh))\n\u001b[1;32m      2\u001b[0m plot_img(c)\n",
      "\u001b[0;31mNameError\u001b[0m: name 'll' is not defined"
     ]
    }
   ],
   "source": [
    "c = (ll,(lh,hl,hh))\n",
    "plot_img(c)"
   ]
  },
  {
   "cell_type": "code",
   "execution_count": 32,
   "id": "b8f6477e-006e-4486-8f94-f9c81dadc74a",
   "metadata": {},
   "outputs": [],
   "source": [
    "x = (cc[1][0]*253/np.max(cc[1][0])).astype(dtype=np.uint8)"
   ]
  },
  {
   "cell_type": "code",
   "execution_count": 33,
   "id": "74c4fd94-ff34-4724-856f-1f6392368043",
   "metadata": {},
   "outputs": [
    {
     "name": "stdout",
     "output_type": "stream",
     "text": [
      "done\n"
     ]
    }
   ],
   "source": [
    "display_img(x)"
   ]
  },
  {
   "cell_type": "code",
   "execution_count": 34,
   "id": "69442901-acf0-48ee-b3a0-3d09aed0ed73",
   "metadata": {},
   "outputs": [
    {
     "data": {
      "text/plain": [
       "array([[[210, 166, 125],\n",
       "        [210, 165, 128],\n",
       "        [210, 165, 127],\n",
       "        ...,\n",
       "        [204, 145,  76],\n",
       "        [201, 146,  73],\n",
       "        [201, 143,  73]],\n",
       "\n",
       "       [[211, 167, 126],\n",
       "        [210, 165, 127],\n",
       "        [211, 167, 128],\n",
       "        ...,\n",
       "        [202, 146,  75],\n",
       "        [201, 146,  73],\n",
       "        [202, 146,  75]],\n",
       "\n",
       "       [[213, 169, 127],\n",
       "        [211, 167, 128],\n",
       "        [212, 167, 129],\n",
       "        ...,\n",
       "        [201, 147,  72],\n",
       "        [202, 147,  74],\n",
       "        [202, 147,  73]],\n",
       "\n",
       "       ...,\n",
       "\n",
       "       [[161, 153, 166],\n",
       "        [131, 119, 130],\n",
       "        [119, 100,  97],\n",
       "        ...,\n",
       "        [ 28,  66, 202],\n",
       "        [ 27,  64, 197],\n",
       "        [ 32,  57, 155]],\n",
       "\n",
       "       [[176, 169, 172],\n",
       "        [211, 199, 196],\n",
       "        [178, 161, 151],\n",
       "        ...,\n",
       "        [ 25,  64, 201],\n",
       "        [ 28,  66, 199],\n",
       "        [ 31,  59, 157]],\n",
       "\n",
       "       [[144, 138, 129],\n",
       "        [121, 107,  96],\n",
       "        [173, 154, 145],\n",
       "        ...,\n",
       "        [ 23,  59, 191],\n",
       "        [ 26,  61, 191],\n",
       "        [ 33,  57, 158]]], dtype=uint8)"
      ]
     },
     "execution_count": 34,
     "metadata": {},
     "output_type": "execute_result"
    }
   ],
   "source": [
    "cover_img"
   ]
  },
  {
   "cell_type": "code",
   "execution_count": 35,
   "id": "f04c01e9-39e9-448d-b612-d56935adb042",
   "metadata": {},
   "outputs": [
    {
     "ename": "ValueError",
     "evalue": "setting an array element with a sequence. The requested array has an inhomogeneous shape after 1 dimensions. The detected shape was (2,) + inhomogeneous part.",
     "output_type": "error",
     "traceback": [
      "\u001b[0;31m---------------------------------------------------------------------------\u001b[0m",
      "\u001b[0;31mValueError\u001b[0m                                Traceback (most recent call last)",
      "Cell \u001b[0;32mIn[35], line 1\u001b[0m\n\u001b[0;32m----> 1\u001b[0m cs \u001b[38;5;241m=\u001b[39m \u001b[43mencodef\u001b[49m\u001b[43m(\u001b[49m\u001b[43mcc\u001b[49m\u001b[43m,\u001b[49m\u001b[43mcp\u001b[49m\u001b[43m)\u001b[49m\n\u001b[1;32m      2\u001b[0m cp_ \u001b[38;5;241m=\u001b[39m decodef(cs, cp)\n",
      "Cell \u001b[0;32mIn[30], line 2\u001b[0m, in \u001b[0;36mencodef\u001b[0;34m(cc, cp, a)\u001b[0m\n\u001b[1;32m      1\u001b[0m \u001b[38;5;28;01mdef\u001b[39;00m \u001b[38;5;21mencodef\u001b[39m(cc,cp,a\u001b[38;5;241m=\u001b[39m\u001b[38;5;241m0.01\u001b[39m):\n\u001b[0;32m----> 2\u001b[0m     ll \u001b[38;5;241m=\u001b[39m \u001b[43mcc\u001b[49m\u001b[43m[\u001b[49m\u001b[38;5;241;43m0\u001b[39;49m\u001b[43m]\u001b[49m\u001b[38;5;241;43m+\u001b[39;49m\u001b[43ma\u001b[49m\u001b[38;5;241;43m*\u001b[39;49m\u001b[43mcp\u001b[49m\u001b[43m[\u001b[49m\u001b[38;5;241;43m0\u001b[39;49m\u001b[43m]\u001b[49m\n\u001b[1;32m      3\u001b[0m     lh \u001b[38;5;241m=\u001b[39m cc[\u001b[38;5;241m1\u001b[39m][\u001b[38;5;241m0\u001b[39m]\u001b[38;5;241m+\u001b[39ma\u001b[38;5;241m*\u001b[39mcp[\u001b[38;5;241m1\u001b[39m][\u001b[38;5;241m0\u001b[39m]\n\u001b[1;32m      4\u001b[0m     hl \u001b[38;5;241m=\u001b[39m cc[\u001b[38;5;241m1\u001b[39m][\u001b[38;5;241m1\u001b[39m]\u001b[38;5;241m+\u001b[39ma\u001b[38;5;241m*\u001b[39mcp[\u001b[38;5;241m1\u001b[39m][\u001b[38;5;241m1\u001b[39m]\n",
      "\u001b[0;31mValueError\u001b[0m: setting an array element with a sequence. The requested array has an inhomogeneous shape after 1 dimensions. The detected shape was (2,) + inhomogeneous part."
     ]
    }
   ],
   "source": [
    "cs = encodef(cc,cp)\n",
    "cp_ = decodef(cs, cp)"
   ]
  },
  {
   "cell_type": "code",
   "execution_count": null,
   "id": "d760a044-bf62-4673-876b-baa3f27d05d8",
   "metadata": {},
   "outputs": [],
   "source": [
    "plot_img((cp[0], cp[1]))"
   ]
  },
  {
   "cell_type": "markdown",
   "id": "e5d5aad6-a6d3-4d35-88bc-5e4fec6f1d80",
   "metadata": {},
   "source": [
    "# Frame for our code"
   ]
  },
  {
   "cell_type": "code",
   "execution_count": 116,
   "id": "6888ed81-8583-46a6-b2cb-98d3f45a3e44",
   "metadata": {},
   "outputs": [],
   "source": [
    "class Stegor:\n",
    "    def __init__(self):\n",
    "        pass\n",
    "    def HCSSDEncoder(self, cover_img, payload_image, wavelet, alpha):\n",
    "        #\n",
    "        pass\n",
    "    def HCSSDDecoder(self, cover_img, payload_image, wavelet):\n",
    "        pass"
   ]
  },
  {
   "cell_type": "code",
   "execution_count": 117,
   "id": "1f495c42-d9ee-4ec1-8605-8da0959be5e0",
   "metadata": {},
   "outputs": [],
   "source": [
    "class WaveletTransform:\n",
    "    def __init__(self):\n",
    "        pass\n",
    "    def db1(self, img):\n",
    "        LL, LH, HL, HH = [], [], [], []\n",
    "        return LL, LH, HL, HH\n",
    "    def coif1(self, img):\n",
    "        LL, LH, HL, HH = [], [], [], []\n",
    "        return LL, LH, HL, HH\n",
    "    def sym2(self, img):\n",
    "        LL, LH, HL, HH = [], [], [], []\n",
    "        return LL, LH, HL, HH\n",
    "    def dmey(self, img):\n",
    "        LL, LH, HL, HH = [], [], [], []\n",
    "        return LL, LH, HL, HH\n",
    "    def bior1_1(self, img):\n",
    "        LL, LH, HL, HH = [], [], [], []\n",
    "        return LL, LH, HL, HH\n",
    "    def rbio1_1(self, img):\n",
    "        LL, LH, HL, HH = [], [], [], []\n",
    "        return LL, LH, HL, HH\n",
    "    def haar(self, img):\n",
    "        LL, LH, HL, HH = [], [], [], []\n",
    "        return LL, LH, HL, HH"
   ]
  },
  {
   "cell_type": "code",
   "execution_count": null,
   "id": "50fff4da-bf5e-411d-91ea-1b20475f78ce",
   "metadata": {},
   "outputs": [],
   "source": [
    "class Metrics:\n",
    "    def __init__(self):\n",
    "        pass\n",
    "    def mse(self, img1, img2):\n",
    "        pass\n",
    "    def snr(self, img1, img2):\n",
    "        pass\n",
    "    def psnr(self, img1, img2):\n",
    "        pass\n",
    "    def nvf(self, img1, img2):\n",
    "        pass\n",
    "    def wpsnr(self, img1, img2):\n",
    "        pass"
   ]
  }
 ],
 "metadata": {
  "kernelspec": {
   "display_name": "Python 3 (ipykernel)",
   "language": "python",
   "name": "python3"
  },
  "language_info": {
   "codemirror_mode": {
    "name": "ipython",
    "version": 3
   },
   "file_extension": ".py",
   "mimetype": "text/x-python",
   "name": "python",
   "nbconvert_exporter": "python",
   "pygments_lexer": "ipython3",
   "version": "3.11.5"
  }
 },
 "nbformat": 4,
 "nbformat_minor": 5
}
